{
  "nbformat": 4,
  "nbformat_minor": 0,
  "metadata": {
    "colab": {
      "name": "Untitled6.ipynb",
      "provenance": [],
      "collapsed_sections": [],
      "include_colab_link": true
    },
    "kernelspec": {
      "name": "python3",
      "display_name": "Python 3"
    },
    "accelerator": "GPU"
  },
  "cells": [
    {
      "cell_type": "markdown",
      "metadata": {
        "id": "view-in-github",
        "colab_type": "text"
      },
      "source": [
        "<a href=\"https://colab.research.google.com/github/Antonio96128/Intent_detection/blob/master/Attention_model_for_intent_detection.ipynb\" target=\"_parent\"><img src=\"https://colab.research.google.com/assets/colab-badge.svg\" alt=\"Open In Colab\"/></a>"
      ]
    },
    {
      "cell_type": "markdown",
      "metadata": {
        "id": "cw_zF880msFz",
        "colab_type": "text"
      },
      "source": [
        "# What is this notebook about?"
      ]
    },
    {
      "cell_type": "markdown",
      "metadata": {
        "id": "nstW4wOUpDsi",
        "colab_type": "text"
      },
      "source": [
        "In this notebook we will discuss one of the classic applications of NLP, intent detection. As a side note, this problem is pretty much the same as sentiment classification, so you could start from here in case you need to solve that problem. All you have to remember is that both problems are of the type \"many to one\", in the context of RNN's."
      ]
    },
    {
      "cell_type": "markdown",
      "metadata": {
        "id": "8y18nefyqDRv",
        "colab_type": "text"
      },
      "source": [
        "So, how do we tackle this problem? Well, there are many approaches we could follow, from old fashion algorithms to deep learning. For the purposes of this notebook we will try to solve this problem using one of the most powerful ideas available for natural language tasks, an attention mechanism. You can learn from a more advanced topic here: https://arxiv.org/abs/1706.03762, but we  will not dicuss, for now, transformers. Additionally, the code we will type can be easily modified for other NLP tasks, like machine translation.  "
      ]
    },
    {
      "cell_type": "markdown",
      "metadata": {
        "id": "fmCXXr2XqDUV",
        "colab_type": "text"
      },
      "source": [
        "Before going into the deep learning algorithm we have to preprocess our data, because as we will see we cannot use it in its current state. By the way, the dataset can be found here: https://www.kaggle.com/hassanamin/atis-airlinetravelinformationsystem."
      ]
    },
    {
      "cell_type": "markdown",
      "metadata": {
        "id": "5MXFTohdugAM",
        "colab_type": "text"
      },
      "source": [
        "# Importing libraries"
      ]
    },
    {
      "cell_type": "code",
      "metadata": {
        "id": "vE2dubrjuj1h",
        "colab_type": "code",
        "colab": {
          "base_uri": "https://localhost:8080/",
          "height": 52
        },
        "outputId": "6723f806-7da1-47c2-d643-92ae347a890b"
      },
      "source": [
        "import numpy as np\n",
        "import pandas as  pd\n",
        "import matplotlib.pyplot as plt\n",
        "import time\n",
        "import seaborn as sns\n",
        "\n",
        "\n",
        "from sklearn.model_selection import train_test_split\n",
        "from sklearn.metrics import confusion_matrix, classification_report, f1_score\n",
        "from sklearn.preprocessing import LabelEncoder\n",
        "\n",
        "import torch\n",
        "import torch.nn as nn\n",
        "from torch import optim"
      ],
      "execution_count": 1,
      "outputs": [
        {
          "output_type": "stream",
          "text": [
            "/usr/local/lib/python3.6/dist-packages/statsmodels/tools/_testing.py:19: FutureWarning: pandas.util.testing is deprecated. Use the functions in the public API at pandas.testing instead.\n",
            "  import pandas.util.testing as tm\n"
          ],
          "name": "stderr"
        }
      ]
    },
    {
      "cell_type": "code",
      "metadata": {
        "id": "bseLEzPlp879",
        "colab_type": "code",
        "colab": {
          "base_uri": "https://localhost:8080/",
          "height": 334
        },
        "outputId": "9a6682db-b0ea-4d53-b6b0-8845f2568ffa"
      },
      "source": [
        "train_df  =  pd.read_csv('atis_intents_train.csv', header=None)\n",
        "test_df   =  pd.read_csv('atis_intents_test.csv', header=None)\n",
        "train_df.sample(10)"
      ],
      "execution_count": 2,
      "outputs": [
        {
          "output_type": "execute_result",
          "data": {
            "text/html": [
              "<div>\n",
              "<style scoped>\n",
              "    .dataframe tbody tr th:only-of-type {\n",
              "        vertical-align: middle;\n",
              "    }\n",
              "\n",
              "    .dataframe tbody tr th {\n",
              "        vertical-align: top;\n",
              "    }\n",
              "\n",
              "    .dataframe thead th {\n",
              "        text-align: right;\n",
              "    }\n",
              "</style>\n",
              "<table border=\"1\" class=\"dataframe\">\n",
              "  <thead>\n",
              "    <tr style=\"text-align: right;\">\n",
              "      <th></th>\n",
              "      <th>0</th>\n",
              "      <th>1</th>\n",
              "    </tr>\n",
              "  </thead>\n",
              "  <tbody>\n",
              "    <tr>\n",
              "      <th>1624</th>\n",
              "      <td>atis_flight</td>\n",
              "      <td>show me all flights from pittsburgh to oaklan...</td>\n",
              "    </tr>\n",
              "    <tr>\n",
              "      <th>664</th>\n",
              "      <td>atis_flight</td>\n",
              "      <td>list flights from boston to san francisco tha...</td>\n",
              "    </tr>\n",
              "    <tr>\n",
              "      <th>3268</th>\n",
              "      <td>atis_flight</td>\n",
              "      <td>show me all flights from charlotte to philade...</td>\n",
              "    </tr>\n",
              "    <tr>\n",
              "      <th>3218</th>\n",
              "      <td>atis_flight</td>\n",
              "      <td>show me flights from san francisco to pittsbu...</td>\n",
              "    </tr>\n",
              "    <tr>\n",
              "      <th>3749</th>\n",
              "      <td>atis_flight</td>\n",
              "      <td>does continental airlines fly from denver to ...</td>\n",
              "    </tr>\n",
              "    <tr>\n",
              "      <th>2790</th>\n",
              "      <td>atis_flight</td>\n",
              "      <td>show me all flights from boston to denver whi...</td>\n",
              "    </tr>\n",
              "    <tr>\n",
              "      <th>2972</th>\n",
              "      <td>atis_flight</td>\n",
              "      <td>show me one way flights from tampa to st. lou...</td>\n",
              "    </tr>\n",
              "    <tr>\n",
              "      <th>3117</th>\n",
              "      <td>atis_ground_service</td>\n",
              "      <td>ground transportation in dallas and boston</td>\n",
              "    </tr>\n",
              "    <tr>\n",
              "      <th>1325</th>\n",
              "      <td>atis_flight</td>\n",
              "      <td>what northwest airline flights leave denver b...</td>\n",
              "    </tr>\n",
              "    <tr>\n",
              "      <th>2289</th>\n",
              "      <td>atis_flight</td>\n",
              "      <td>what is the last flight from atlanta to boston</td>\n",
              "    </tr>\n",
              "  </tbody>\n",
              "</table>\n",
              "</div>"
            ],
            "text/plain": [
              "                        0                                                  1\n",
              "1624          atis_flight   show me all flights from pittsburgh to oaklan...\n",
              "664           atis_flight   list flights from boston to san francisco tha...\n",
              "3268          atis_flight   show me all flights from charlotte to philade...\n",
              "3218          atis_flight   show me flights from san francisco to pittsbu...\n",
              "3749          atis_flight   does continental airlines fly from denver to ...\n",
              "2790          atis_flight   show me all flights from boston to denver whi...\n",
              "2972          atis_flight   show me one way flights from tampa to st. lou...\n",
              "3117  atis_ground_service         ground transportation in dallas and boston\n",
              "1325          atis_flight   what northwest airline flights leave denver b...\n",
              "2289          atis_flight     what is the last flight from atlanta to boston"
            ]
          },
          "metadata": {
            "tags": []
          },
          "execution_count": 2
        }
      ]
    },
    {
      "cell_type": "markdown",
      "metadata": {
        "id": "gDYq0yHpv83n",
        "colab_type": "text"
      },
      "source": [
        "We can see that the queries are all about airline services, but the approach we will follow works fine for other domains. Also, it is important to notice that ALTHOUGH the text is pretty clean we will still write functions that can handle more complicated text inputs; for example, special characters or uncommon words. To help our neural network to better understand language, we will use a vector representation for words, or word embedding. In this notebook we will use a pretrained word embedding which can be found here: https://www.kaggle.com/rtatman/glove-global-vectors-for-word-representation. Notice that you could train your own word representation BUT it is not only VERY time consumming, it also requieres a lot of data.  "
      ]
    },
    {
      "cell_type": "markdown",
      "metadata": {
        "id": "s_og4jev0x37",
        "colab_type": "text"
      },
      "source": [
        "Let's preprocess our data. One important thing to notice is that the dataset is IMBALANCED, so we will have to deal with this issue eventually."
      ]
    },
    {
      "cell_type": "code",
      "metadata": {
        "id": "GcJTGDkl071h",
        "colab_type": "code",
        "colab": {}
      },
      "source": [
        "train_df.columns = ['Class', 'Text']\n",
        "test_df.columns  = ['Class', 'Text']"
      ],
      "execution_count": 3,
      "outputs": []
    },
    {
      "cell_type": "code",
      "metadata": {
        "id": "-ZpuJTh01dSR",
        "colab_type": "code",
        "colab": {
          "base_uri": "https://localhost:8080/",
          "height": 174
        },
        "outputId": "2104e8da-6297-44ad-b687-8153134d8081"
      },
      "source": [
        "train_df.Class.value_counts()"
      ],
      "execution_count": 4,
      "outputs": [
        {
          "output_type": "execute_result",
          "data": {
            "text/plain": [
              "atis_flight            3666\n",
              "atis_airfare            423\n",
              "atis_ground_service     255\n",
              "atis_airline            157\n",
              "atis_abbreviation       147\n",
              "atis_aircraft            81\n",
              "atis_flight_time         54\n",
              "atis_quantity            51\n",
              "Name: Class, dtype: int64"
            ]
          },
          "metadata": {
            "tags": []
          },
          "execution_count": 4
        }
      ]
    },
    {
      "cell_type": "code",
      "metadata": {
        "id": "g8e1X0uVHThz",
        "colab_type": "code",
        "colab": {
          "base_uri": "https://localhost:8080/",
          "height": 34
        },
        "outputId": "6c877351-013c-4f60-d3a2-57127aebb860"
      },
      "source": [
        "num_classes = train_df.Class.nunique()\n",
        "num_classes"
      ],
      "execution_count": 5,
      "outputs": [
        {
          "output_type": "execute_result",
          "data": {
            "text/plain": [
              "8"
            ]
          },
          "metadata": {
            "tags": []
          },
          "execution_count": 5
        }
      ]
    },
    {
      "cell_type": "code",
      "metadata": {
        "id": "zQqCLsBA3-nD",
        "colab_type": "code",
        "colab": {}
      },
      "source": [
        "y      = train_df.Class\n",
        "X      = train_df.Text.to_numpy()\n",
        "\n",
        "y_TEST = test_df.Class\n",
        "X_TEST = test_df.Text.to_numpy()\n",
        "\n",
        "\n",
        "X_train, X_val, y_train, y_val = train_test_split(X, y, test_size = 0.2) "
      ],
      "execution_count": 6,
      "outputs": []
    },
    {
      "cell_type": "code",
      "metadata": {
        "id": "I2A9P4-I1npp",
        "colab_type": "code",
        "colab": {}
      },
      "source": [
        "encoder = LabelEncoder()\n",
        "\n",
        "y_train = encoder.fit_transform(y_train)\n",
        "y_val   = encoder.transform(y_val)\n",
        "y_TEST  = encoder.transform(y_TEST)"
      ],
      "execution_count": 7,
      "outputs": []
    },
    {
      "cell_type": "code",
      "metadata": {
        "id": "ubC2jZFfOQ7H",
        "colab_type": "code",
        "colab": {
          "base_uri": "https://localhost:8080/",
          "height": 174
        },
        "outputId": "60869d46-8cf6-4c21-b6fd-f1f8081ac665"
      },
      "source": [
        "pd.Series(y_train).value_counts()"
      ],
      "execution_count": 8,
      "outputs": [
        {
          "output_type": "execute_result",
          "data": {
            "text/plain": [
              "4    2929\n",
              "2     342\n",
              "6     204\n",
              "3     135\n",
              "0     113\n",
              "1      64\n",
              "5      41\n",
              "7      39\n",
              "dtype: int64"
            ]
          },
          "metadata": {
            "tags": []
          },
          "execution_count": 8
        }
      ]
    },
    {
      "cell_type": "code",
      "metadata": {
        "id": "59EXRZrJ2HaO",
        "colab_type": "code",
        "colab": {
          "base_uri": "https://localhost:8080/",
          "height": 139
        },
        "outputId": "fba68c4a-996f-416e-f754-be2393c823f7"
      },
      "source": [
        "X_train"
      ],
      "execution_count": 9,
      "outputs": [
        {
          "output_type": "execute_result",
          "data": {
            "text/plain": [
              "array([' what flights are available from denver to san francisco',\n",
              "       ' what airlines flies out of atlanta',\n",
              "       ' list all american airlines from milwaukee to phoenix on saturday',\n",
              "       ..., ' train to newark',\n",
              "       ' show me airlines between boston and san francisco',\n",
              "       \" i'd like to arrange a flight from pittsburgh to atlanta\"],\n",
              "      dtype=object)"
            ]
          },
          "metadata": {
            "tags": []
          },
          "execution_count": 9
        }
      ]
    },
    {
      "cell_type": "markdown",
      "metadata": {
        "id": "hmEasAKU6F3S",
        "colab_type": "text"
      },
      "source": [
        "Now, the hardest part of preprocessing. First, we load the embedding and create dictionaries to map from words to indexes and vectors, and viceversa."
      ]
    },
    {
      "cell_type": "code",
      "metadata": {
        "id": "rKizlpmI2XgX",
        "colab_type": "code",
        "colab": {}
      },
      "source": [
        "def read_glove_vecs(glove_file):\n",
        "    '''Create dictionaries using the word embedding'''\n",
        "    with open(glove_file, 'r', encoding=\"utf8\") as f:\n",
        "        words = set()\n",
        "        word_to_vec_map = {}\n",
        "        for line in f:\n",
        "            line = line.strip().split()\n",
        "            curr_word = line[0]\n",
        "            words.add(curr_word)\n",
        "            word_to_vec_map[curr_word] = np.array(line[1:], dtype=np.float64)\n",
        "        \n",
        "        i = 1\n",
        "        words_to_index = {}\n",
        "        index_to_words = {}\n",
        "        for w in sorted(words):\n",
        "            words_to_index[w] = i\n",
        "            index_to_words[i] = w\n",
        "            i = i + 1\n",
        "    return words_to_index, index_to_words, word_to_vec_map\n"
      ],
      "execution_count": 10,
      "outputs": []
    },
    {
      "cell_type": "code",
      "metadata": {
        "id": "DOjo0U1v22_V",
        "colab_type": "code",
        "colab": {}
      },
      "source": [
        "word_to_index, index_to_word, word_to_vec_map = read_glove_vecs('glove.6B.50d.txt')"
      ],
      "execution_count": 11,
      "outputs": []
    },
    {
      "cell_type": "markdown",
      "metadata": {
        "id": "Fishvu-M6fxF",
        "colab_type": "text"
      },
      "source": [
        "Let's see some examples."
      ]
    },
    {
      "cell_type": "code",
      "metadata": {
        "id": "Q9kFa4iV6eTf",
        "colab_type": "code",
        "colab": {
          "base_uri": "https://localhost:8080/",
          "height": 34
        },
        "outputId": "5df3b92f-abf9-4e21-f4c8-9c054fdff7fa"
      },
      "source": [
        "word_to_index['intelligence']"
      ],
      "execution_count": 12,
      "outputs": [
        {
          "output_type": "execute_result",
          "data": {
            "text/plain": [
              "191006"
            ]
          },
          "metadata": {
            "tags": []
          },
          "execution_count": 12
        }
      ]
    },
    {
      "cell_type": "code",
      "metadata": {
        "id": "vdULcV496o5z",
        "colab_type": "code",
        "colab": {
          "base_uri": "https://localhost:8080/",
          "height": 34
        },
        "outputId": "8c44a05c-4fee-472c-eed1-ba6c7ce94985"
      },
      "source": [
        "index_to_word[191006]"
      ],
      "execution_count": 13,
      "outputs": [
        {
          "output_type": "execute_result",
          "data": {
            "application/vnd.google.colaboratory.intrinsic+json": {
              "type": "string"
            },
            "text/plain": [
              "'intelligence'"
            ]
          },
          "metadata": {
            "tags": []
          },
          "execution_count": 13
        }
      ]
    },
    {
      "cell_type": "code",
      "metadata": {
        "id": "p2D9jVy86uam",
        "colab_type": "code",
        "colab": {
          "base_uri": "https://localhost:8080/",
          "height": 191
        },
        "outputId": "51b91765-595e-4260-d468-be8d4d27a750"
      },
      "source": [
        "word_to_vec_map['intelligence']"
      ],
      "execution_count": 14,
      "outputs": [
        {
          "output_type": "execute_result",
          "data": {
            "text/plain": [
              "array([ 0.8782   , -0.45171  ,  0.96737  ,  0.040347 ,  0.76235  ,\n",
              "       -0.63825  ,  0.18944  , -0.26633  ,  0.58874  , -0.93608  ,\n",
              "       -0.065201 ,  0.5123   , -0.69111  ,  0.52807  , -0.71195  ,\n",
              "       -0.2834   , -0.34591  ,  0.014351 ,  0.11763  ,  0.59407  ,\n",
              "        0.20703  ,  0.69087  ,  1.0855   , -0.83158  , -0.35967  ,\n",
              "       -2.3939   , -0.88375  , -0.417    , -0.36717  ,  0.58897  ,\n",
              "        2.4132   , -0.74281  , -0.3619   , -1.9934   ,  0.093133 ,\n",
              "        0.86592  , -0.75185  ,  0.19073  , -0.54284  , -0.0084839,\n",
              "        0.57554  ,  0.4475   ,  0.48515  ,  0.054866 ,  0.35842  ,\n",
              "       -0.51698  , -0.026014 ,  1.9907   , -0.11378  ,  0.30127  ])"
            ]
          },
          "metadata": {
            "tags": []
          },
          "execution_count": 14
        }
      ]
    },
    {
      "cell_type": "markdown",
      "metadata": {
        "id": "eHDZx_a-60Wh",
        "colab_type": "text"
      },
      "source": [
        "As we can see, the vector representation is of dimension 50."
      ]
    },
    {
      "cell_type": "markdown",
      "metadata": {
        "id": "ZkdKGUte6-f5",
        "colab_type": "text"
      },
      "source": [
        "One great thing of these representations is that they REALLY encode the meaning of words! Well, they do a pretty good work at it. For example, we can work with analogies from a linear algebra perspective. If we were to find the completion for the analogy: Paris is to France as Rome is to _____ , we would need to find the vector that satisfies the relation: V_paris - V_france = V_rome - ???"
      ]
    },
    {
      "cell_type": "markdown",
      "metadata": {
        "id": "G0GHU-fN9J6e",
        "colab_type": "text"
      },
      "source": [
        "Just a subtle a thing, rather than the square difference, it is more common to use cosine similarity, so your results are independent of the norm of the vectors. The intuition is that orthogonal vectors are as different as they can be, while parallel vectors are similar."
      ]
    },
    {
      "cell_type": "markdown",
      "metadata": {
        "id": "AZQbJNfk-w8l",
        "colab_type": "text"
      },
      "source": [
        "Let's return to our problem."
      ]
    },
    {
      "cell_type": "code",
      "metadata": {
        "id": "iKRKvGP96ysC",
        "colab_type": "code",
        "colab": {}
      },
      "source": [
        "def special_char(word):\n",
        "    '''This function deals with special characters that are sticked to words. For example, #AI is transformed into # AI'''\n",
        "    \n",
        "    chars = [ \"!\", \"?\", \"@\", \"#\", \"$\", \"%\", \"^\", \"&\", \"*\", '(', ')', '-', '_', '+', '=', '{', '}','[', ']', '/', ';', ',', '|', '<', '>', '\\\\', '~', '`', ':', '\"', \".\", \"'\" ]\n",
        "    \n",
        "    for char in chars:\n",
        "        \n",
        "        if char in word:\n",
        "            \n",
        "            word = word.lower().replace(char, ' ' + char + ' ').split()\n",
        "            word = ' '.join(word)\n",
        "\n",
        "\n",
        "    return word"
      ],
      "execution_count": 15,
      "outputs": []
    },
    {
      "cell_type": "code",
      "metadata": {
        "id": "6wLr8GxP_Nr2",
        "colab_type": "code",
        "colab": {
          "base_uri": "https://localhost:8080/",
          "height": 34
        },
        "outputId": "88d7ad50-f2d9-4bc5-daab-807a026e7e51"
      },
      "source": [
        "print(special_char(\"#Deep Learning is the best!!!\"))"
      ],
      "execution_count": 16,
      "outputs": [
        {
          "output_type": "stream",
          "text": [
            "# deep learning is the best ! ! !\n"
          ],
          "name": "stdout"
        }
      ]
    },
    {
      "cell_type": "code",
      "metadata": {
        "id": "I7fN0ajJ_Qlj",
        "colab_type": "code",
        "colab": {}
      },
      "source": [
        "def get_indexes(sentences, max_len):  \n",
        "    '''Get the indexes for each word in a sentence'''\n",
        "    \n",
        "    indexes = np.zeros(( sentences.shape[0], max_len))\n",
        "\n",
        "    for i in range(sentences.shape[0]):\n",
        "        \n",
        "        j = 0\n",
        "            \n",
        "        for word in sentences[i].split():\n",
        "            \n",
        "            if j < max_len:\n",
        "                            \n",
        "                words = special_char(word).split()\n",
        "                    \n",
        "                for word in words:\n",
        "                        \n",
        "                    if j < max_len:\n",
        "    \n",
        "                        try:\n",
        "                                                   \n",
        "                            indexes[i,j] = word_to_index[word.lower()]\n",
        "                            j+=1\n",
        "                        \n",
        "        \n",
        "                        except KeyError:\n",
        "                            continue\n",
        "                    else:\n",
        "                        break\n",
        "            else:\n",
        "                break\n",
        "        \n",
        "    return indexes\n"
      ],
      "execution_count": 17,
      "outputs": []
    },
    {
      "cell_type": "code",
      "metadata": {
        "id": "CfuprEG4_QoC",
        "colab_type": "code",
        "colab": {
          "base_uri": "https://localhost:8080/",
          "height": 34
        },
        "outputId": "5c97799f-baf5-416e-f708-28dbf73bcd1f"
      },
      "source": [
        "X_train[0]"
      ],
      "execution_count": 18,
      "outputs": [
        {
          "output_type": "execute_result",
          "data": {
            "application/vnd.google.colaboratory.intrinsic+json": {
              "type": "string"
            },
            "text/plain": [
              "' what flights are available from denver to san francisco'"
            ]
          },
          "metadata": {
            "tags": []
          },
          "execution_count": 18
        }
      ]
    },
    {
      "cell_type": "code",
      "metadata": {
        "id": "ITJF0d7Ufctu",
        "colab_type": "code",
        "colab": {}
      },
      "source": [
        "first_word  =  X_train[0].split()[0]\n",
        "second_word =  X_train[0].split()[1]\n",
        "third_word  =  X_train[0].split()[2]"
      ],
      "execution_count": 19,
      "outputs": []
    },
    {
      "cell_type": "code",
      "metadata": {
        "id": "5KhTAyeF_Qq8",
        "colab_type": "code",
        "colab": {
          "base_uri": "https://localhost:8080/",
          "height": 69
        },
        "outputId": "4da02bb6-a811-4010-9fde-7070da369494"
      },
      "source": [
        "get_indexes(X_train[:1], max_len = 20)"
      ],
      "execution_count": 20,
      "outputs": [
        {
          "output_type": "execute_result",
          "data": {
            "text/plain": [
              "array([[386307., 150037.,  58997.,  63822., 154323., 121051., 360915.,\n",
              "        317286., 153003.,      0.,      0.,      0.,      0.,      0.,\n",
              "             0.,      0.,      0.,      0.,      0.,      0.]])"
            ]
          },
          "metadata": {
            "tags": []
          },
          "execution_count": 20
        }
      ]
    },
    {
      "cell_type": "markdown",
      "metadata": {
        "id": "9FI2mxZa_8yQ",
        "colab_type": "text"
      },
      "source": [
        "Just to be explicit, recall that:"
      ]
    },
    {
      "cell_type": "code",
      "metadata": {
        "id": "IQyn_9eK_uUY",
        "colab_type": "code",
        "colab": {
          "base_uri": "https://localhost:8080/",
          "height": 34
        },
        "outputId": "a85366f1-bb67-4dbb-9a60-27566e3766dd"
      },
      "source": [
        "print(word_to_index[first_word], ',', word_to_index[second_word], ',', word_to_index[third_word])"
      ],
      "execution_count": 21,
      "outputs": [
        {
          "output_type": "stream",
          "text": [
            "386307 , 150037 , 58997\n"
          ],
          "name": "stdout"
        }
      ]
    },
    {
      "cell_type": "markdown",
      "metadata": {
        "id": "4n1GiORRANA8",
        "colab_type": "text"
      },
      "source": [
        "Great, now, let's do it for all the sets, and also let's create an embedding matrix because Pytorch needs the mapping in that form."
      ]
    },
    {
      "cell_type": "code",
      "metadata": {
        "id": "5lxAIV-oADqU",
        "colab_type": "code",
        "colab": {}
      },
      "source": [
        "def create_embedding(word_to_index, word_to_vec_map):\n",
        "    '''Create the embedding matrix'''\n",
        "    num_embeddings =  len(word_to_vec_map) + 1\n",
        "    embedding_dim  =  len(word_to_vec_map['1'])\n",
        "    \n",
        "    embedding_matrix = np.zeros((num_embeddings, embedding_dim))\n",
        "\n",
        "    for word, index in word_to_index.items():\n",
        "        \n",
        "        embedding_matrix[index, :] = word_to_vec_map[word]\n",
        "\n",
        "\n",
        "    return embedding_matrix\n",
        "\n"
      ],
      "execution_count": 22,
      "outputs": []
    },
    {
      "cell_type": "code",
      "metadata": {
        "id": "wcz0tmUeAh1u",
        "colab_type": "code",
        "colab": {}
      },
      "source": [
        "embedding_matrix =  create_embedding(word_to_index, word_to_vec_map)"
      ],
      "execution_count": 23,
      "outputs": []
    },
    {
      "cell_type": "code",
      "metadata": {
        "id": "Q5xJHm5yrIi6",
        "colab_type": "code",
        "colab": {}
      },
      "source": [
        "X_train_text = X_train.copy()\n",
        "X_val_text   = X_val.copy()\n",
        "X_TEST_text  = X_TEST.copy()"
      ],
      "execution_count": 24,
      "outputs": []
    },
    {
      "cell_type": "code",
      "metadata": {
        "id": "uMdn9_gRAkcF",
        "colab_type": "code",
        "colab": {}
      },
      "source": [
        "X_train = get_indexes(X_train, max_len = 20)\n",
        "X_val   = get_indexes(X_val  , max_len = 20)\n",
        "X_TEST  = get_indexes(X_TEST , max_len = 20)"
      ],
      "execution_count": 25,
      "outputs": []
    },
    {
      "cell_type": "code",
      "metadata": {
        "id": "6oHZFRPziipj",
        "colab_type": "code",
        "colab": {
          "base_uri": "https://localhost:8080/",
          "height": 69
        },
        "outputId": "a9bef153-ed43-4793-9dff-9a65167e8981"
      },
      "source": [
        "X_train[0,:]"
      ],
      "execution_count": 26,
      "outputs": [
        {
          "output_type": "execute_result",
          "data": {
            "text/plain": [
              "array([386307., 150037.,  58997.,  63822., 154323., 121051., 360915.,\n",
              "       317286., 153003.,      0.,      0.,      0.,      0.,      0.,\n",
              "            0.,      0.,      0.,      0.,      0.,      0.])"
            ]
          },
          "metadata": {
            "tags": []
          },
          "execution_count": 26
        }
      ]
    },
    {
      "cell_type": "markdown",
      "metadata": {
        "id": "unglid04Bfaq",
        "colab_type": "text"
      },
      "source": [
        "Let's make everything Pytorch friendly."
      ]
    },
    {
      "cell_type": "code",
      "metadata": {
        "id": "kbwHqBhnAsdB",
        "colab_type": "code",
        "colab": {}
      },
      "source": [
        "embedding_matrix  =   torch.tensor(embedding_matrix)\n",
        "\n",
        "\n",
        "\n",
        "X_train   =  torch.from_numpy(X_train.astype(np.float32))\n",
        "X_val     =  torch.from_numpy(X_val.astype(np.float32))\n",
        "X_TEST    =  torch.from_numpy(X_TEST.astype(np.float32))\n",
        "\n",
        "\n",
        "y_train   =  torch.from_numpy(y_train)\n",
        "y_train   =  y_train.type(torch.LongTensor)\n",
        "\n",
        "y_val     =  torch.from_numpy(y_val)\n",
        "y_val     =  y_val.type(torch.LongTensor)\n",
        "\n",
        "y_TEST    =  torch.from_numpy(y_TEST)\n",
        "y_TEST    =  y_TEST.type(torch.LongTensor)\n",
        "\n",
        "\n",
        "X_train   =  torch.transpose(X_train, 0,1)\n",
        "X_train   =  X_train.type(torch.LongTensor)\n",
        "\n",
        "X_val     =  torch.transpose(X_val, 0,1)\n",
        "X_val     =  X_val.type(torch.LongTensor)\n",
        "\n",
        "\n",
        "X_TEST    =  torch.transpose(X_TEST, 0,1)\n",
        "X_TEST    =  X_TEST.type(torch.LongTensor)\n"
      ],
      "execution_count": 27,
      "outputs": []
    },
    {
      "cell_type": "code",
      "metadata": {
        "id": "t7u6qcZji4fh",
        "colab_type": "code",
        "colab": {
          "base_uri": "https://localhost:8080/",
          "height": 69
        },
        "outputId": "1d75ad10-2dd0-4f7b-ce72-9fa73b95310b"
      },
      "source": [
        "X_train[:,0]"
      ],
      "execution_count": 28,
      "outputs": [
        {
          "output_type": "execute_result",
          "data": {
            "text/plain": [
              "tensor([386307, 150037,  58997,  63822, 154323, 121051, 360915, 317286, 153003,\n",
              "             0,      0,      0,      0,      0,      0,      0,      0,      0,\n",
              "             0,      0])"
            ]
          },
          "metadata": {
            "tags": []
          },
          "execution_count": 28
        }
      ]
    },
    {
      "cell_type": "markdown",
      "metadata": {
        "id": "LUNYGZTHDKew",
        "colab_type": "text"
      },
      "source": [
        "Below, we have the attention model. Notice that the first part is a standard bidirectional RNN, in particular we use a GRU. After getting the outputs from the RNN we perform the attention mechanism. It consists of combining the outputs from the recurrent units in such a way that we can write a linear combination of them, where the coefficients are learned as any other parameter of the model, via gradient descent. Mathematically, we have:\n",
        "\n",
        "$$context = \\sum_{t = 1}^{T_x} \\alpha^{<t>} V^{<t>} = \\alpha * V,$$\n",
        "\n",
        "where $\\alpha$ is the vector of coefficients (which sum to one) and $V$ is the \"vector\" that contains the outputs from all the recurrent units. Intuitively, we notice that the larger $\\alpha_t$ is, the more relevance $V_{t}$ has in the classification.\n"
      ]
    },
    {
      "cell_type": "markdown",
      "metadata": {
        "id": "c2MunbUv9__j",
        "colab_type": "text"
      },
      "source": [
        "Notice that we set the weights in the loss function in a manner that takes into account the imbalance of the dataset."
      ]
    },
    {
      "cell_type": "code",
      "metadata": {
        "id": "MrN_tDGiBRw9",
        "colab_type": "code",
        "colab": {}
      },
      "source": [
        "class Attention_Model(nn.Module):\n",
        "    \n",
        "    \n",
        "    def __init__(self, embedding_matrix, input_size, hidden_size, num_layers, dropout_prob, num_classes):\n",
        "        super(Attention_Model, self).__init__()\n",
        "        \n",
        "        self.hidden_size =  hidden_size\n",
        "\n",
        "        self.embedding   =  nn.Embedding.from_pretrained(embedding_matrix)        \n",
        "        self.GRU         =  nn.GRU(input_size = input_size, hidden_size = hidden_size, num_layers = num_layers, dropout = dropout_prob, bidirectional = True )\n",
        "        self.linear_1    =  nn.Linear(in_features = 2*hidden_size , out_features = hidden_size )\n",
        "        self.linear_2    =  nn.Linear(in_features =   hidden_size , out_features = 1 )\n",
        "\n",
        "\n",
        "        self.linear_3   =  nn.Linear(in_features = 2*hidden_size    , out_features = hidden_size      )\n",
        "        self.linear_4   =  nn.Linear(in_features =   hidden_size    , out_features = hidden_size // 2 )\n",
        "        self.linear_5   =  nn.Linear(in_features = hidden_size // 2 , out_features = hidden_size // 4 )\n",
        "        self.linear_6   =  nn.Linear(in_features = hidden_size // 4 , out_features = num_classes      )\n",
        "\n",
        "\n",
        "\n",
        "        self.costs      =  []\n",
        "        self.weights_1  =  torch.tensor([4.39, 7.55, 1.41, 3.66, 0.165, 10.98, 2.37, 10.98])   ###  We can set the weights in a proper way to deal with IMBALANCE. \n",
        "                                                                                               ###  Here we used n_samples/(n_classes * n_samples_in_each_class)\n",
        "\n",
        "\n",
        "        self.criterion  =  nn.CrossEntropyLoss(weight = self.weights_1)\n",
        "        self.softmax_attention = nn.Softmax(dim = 1)\n",
        "        self.softmax_predict   = nn.Softmax(dim = 1)\n",
        "\n",
        "        \n",
        "        \n",
        "\n",
        "    def forward(self, X):                \n",
        "        \n",
        "        X                  =  self.embedding(X)                           ### Embedding \n",
        "        \n",
        "        X                  =  X.type(torch.float32)\n",
        "        \n",
        "        output, hn         =  self.GRU(X)                                 ### GRU\n",
        "        \n",
        "        output_attention   =  torch.transpose(output, 0, 1)\n",
        "        \n",
        "\n",
        "\n",
        "        output_attention   =  self.linear_1(output_attention)\n",
        "\n",
        "        output_attention   =  self.linear_2(output_attention)\n",
        "\n",
        "\n",
        "    \n",
        "\n",
        "        output_attention   =  torch.squeeze(output_attention)\n",
        " \n",
        "        alphas             =  self.softmax_attention(output_attention)     ### Get the alphas\n",
        "        \n",
        "        alphas             =  torch.unsqueeze(alphas, 1)\n",
        "\n",
        "        output             =  torch.transpose(output, 0, 1)\n",
        "        \n",
        "        context            =  torch.bmm(alphas, output)                    ### Get the context vector\n",
        "        \n",
        "        context            =  torch.squeeze(context)\n",
        "        \n",
        "\n",
        "\n",
        "\n",
        "        final_output       =  self.linear_3(context)\n",
        "\n",
        "        final_output       =  self.linear_4(final_output)\n",
        "\n",
        "        final_output       =  self.linear_5(final_output)\n",
        "\n",
        "\n",
        "\n",
        "\n",
        "        final_output       =  self.linear_6(final_output)\n",
        "\n",
        "    \n",
        "        return final_output, alphas\n",
        "\n",
        "    \n",
        "    \n",
        "    def one_step_train(self, X_train, Y_train, optimizer):\n",
        "        \n",
        "        optimizer.zero_grad()\n",
        "        \n",
        "        output, _ =  self.forward(X_train)\n",
        "        \n",
        "        loss      =  self.criterion(output, Y_train) \n",
        "        \n",
        "        self.costs.append(loss.item())\n",
        "        \n",
        "        loss.backward()\n",
        "    \n",
        "        optimizer.step()        \n",
        "        \n",
        "\n",
        "\n",
        "\n",
        "    def Train(self, num_epochs, X_train, Y_train, optimizer):\n",
        "        \n",
        "        \n",
        "        for i in range(num_epochs):\n",
        "            \n",
        "            self.one_step_train(X_train,Y_train, optimizer)\n",
        "            \n",
        "            if i % 500 == 0:\n",
        "                print(\"Epoch =\", i)\n",
        "            \n",
        "                        \n",
        "        plt.plot(self.costs)\n",
        "        \n",
        "        \n",
        "        \n",
        "        \n",
        "    def predict(self, X):\n",
        "        \n",
        "        \n",
        "        predictions, alphas  = self.forward(X)\n",
        "        \n",
        "        predictions          = self.softmax_predict(predictions)\n",
        "        \n",
        "        predictions          = torch.argmax(predictions, axis = 1)\n",
        "        \n",
        "        return predictions.detach(), alphas.detach()\n",
        "\n"
      ],
      "execution_count": 29,
      "outputs": []
    },
    {
      "cell_type": "markdown",
      "metadata": {
        "id": "Zm3cjs83Gv9y",
        "colab_type": "text"
      },
      "source": [
        "Now, we train our model."
      ]
    },
    {
      "cell_type": "code",
      "metadata": {
        "id": "b8K37tJHGmvL",
        "colab_type": "code",
        "colab": {}
      },
      "source": [
        "def Model_Run(X_train, y_train, X_val, y_val, num_classes, hidden_size, num_layers, dropout_prob, num_epochs, reg_lambda, is_GPU_ON):\n",
        "\n",
        "    \n",
        "\n",
        "\n",
        "    print('Hidden size = ', hidden_size ) \n",
        "    print(\"Num layers  = \", num_layers  )\n",
        "    print(\"Dropout p   = \", dropout_prob)\n",
        "    print(\"Num Epochs  = \", num_epochs  )\n",
        "    print(\"L2 reg par  = \", reg_lambda  )\n",
        "\n",
        "\n",
        "\n",
        "    \n",
        "    input_size        =  len(word_to_vec_map['1'])  # embedding dimension = 50\n",
        "\n",
        "    \n",
        "\n",
        "\n",
        "    # Define the model and the optimizer\n",
        "\n",
        "    model      =    Attention_Model(embedding_matrix = embedding_matrix, input_size = input_size, hidden_size = hidden_size,\n",
        "                              num_layers = num_layers, dropout_prob = dropout_prob, num_classes = num_classes)\n",
        "    \n",
        "\n",
        "    optimizer  =    optim.Adam(model.parameters(), weight_decay = reg_lambda)\n",
        "\n",
        "\n",
        "\n",
        "\n",
        "\n",
        "\n",
        "\n",
        "    # Decide whether you use or not the GPU. Highly recommended!\n",
        "\n",
        "    device = None\n",
        "\n",
        "    if is_GPU_ON:\n",
        "        \n",
        "        device = torch.device('cuda:0' if torch.cuda.is_available() else 'cpu')\n",
        "        print(device)\n",
        "        model.to(device)\n",
        "        \n",
        "        \n",
        "        X_train  =  X_train.to(device)\n",
        "        y_train  =  y_train.to(device)\n",
        "        \n",
        "        X_val    =  X_val.to(device)\n",
        "        y_val    =  y_val.to(device)\n",
        "\n",
        "\n",
        "\n",
        "\n",
        "\n",
        "#####  TRAINING       TRAINING      TRAINING     TRAINING       TRAINING      TRAINING     TRAINING     #####\n",
        "\n",
        "\n",
        "    initial_time = time.time()\n",
        "    \n",
        "    model.Train(num_epochs = num_epochs, X_train = X_train, Y_train = y_train, optimizer = optimizer)\n",
        "    \n",
        "    final_time = time.time()\n",
        "    print(\"Training time  =\", final_time - initial_time)\n",
        "\n",
        "\n",
        "\n",
        "\n",
        "\n",
        "#####  PREDICTING      PREDICTING       PREDICTING       PREDICTING      PREDICTING       PREDICTING     #####\n",
        "\n",
        "    \n",
        "    \n",
        "    train_predictions, train_alphas  =  model.predict(X_train)\n",
        "    val_predictions,   val_alphas    =  model.predict(X_val  )\n",
        "    \n",
        "                     \n",
        "    return train_predictions.cpu().numpy(), train_alphas.cpu().numpy(), y_train.cpu().numpy(), val_predictions.cpu().numpy(), val_alphas.cpu().numpy(), y_val.cpu().numpy(), model"
      ],
      "execution_count": 30,
      "outputs": []
    },
    {
      "cell_type": "code",
      "metadata": {
        "id": "G8wnZhyNKpIS",
        "colab_type": "code",
        "colab": {
          "base_uri": "https://localhost:8080/",
          "height": 456
        },
        "outputId": "8f203620-f1d0-4b7d-fa27-0bef2f155bbc"
      },
      "source": [
        "train_predictions, train_alphas, y_train, val_predictions, val_alphas, y_val, model   =    Model_Run( X_train = X_train, y_train = y_train, X_val = X_val, y_val = y_val, num_classes = num_classes, \n",
        "                                                                                                    hidden_size = 10, num_layers = 1, dropout_prob = 0, num_epochs = 1501, reg_lambda = 0, is_GPU_ON = True)\n",
        "            "
      ],
      "execution_count": 31,
      "outputs": [
        {
          "output_type": "stream",
          "text": [
            "Hidden size =  10\n",
            "Num layers  =  1\n",
            "Dropout p   =  0\n",
            "Num Epochs  =  1501\n",
            "L2 reg par  =  0\n",
            "cuda:0\n",
            "Epoch = 0\n",
            "Epoch = 500\n",
            "Epoch = 1000\n",
            "Epoch = 1500\n",
            "Training time  = 15.6593337059021\n"
          ],
          "name": "stdout"
        },
        {
          "output_type": "display_data",
          "data": {
            "image/png": "[encoded data removed]",
            "text/plain": [
              "<Figure size 432x288 with 1 Axes>"
            ]
          },
          "metadata": {
            "tags": [],
            "needs_background": "light"
          }
        }
      ]
    },
    {
      "cell_type": "markdown",
      "metadata": {
        "id": "C7rmO6C0NLB7",
        "colab_type": "text"
      },
      "source": [
        "To compare the predictions, let's see the confusion matrix and the classification report for the training set."
      ]
    },
    {
      "cell_type": "code",
      "metadata": {
        "id": "zjaw9RTgKrne",
        "colab_type": "code",
        "colab": {
          "base_uri": "https://localhost:8080/",
          "height": 574
        },
        "outputId": "c71ad76b-f4ed-4578-c2ba-be0d61b7ac0f"
      },
      "source": [
        "CR = classification_report(y_train, train_predictions)\n",
        "\n",
        "print(CR)\n",
        "\n",
        "CM = confusion_matrix(y_train, train_predictions)\n",
        "\n",
        "plt.figure(\"Confusion Matrix for training set\")\n",
        "plt.title(\"Confusion Matrix for training set\")\n",
        "sns.heatmap(CM, annot = True, fmt=\"d\", center = 1000)\n",
        "plt.xlabel(\"Predictions\")\n",
        "plt.ylabel(\"True labels\")\n",
        "print()"
      ],
      "execution_count": 32,
      "outputs": [
        {
          "output_type": "stream",
          "text": [
            "              precision    recall  f1-score   support\n",
            "\n",
            "           0       1.00      1.00      1.00       113\n",
            "           1       1.00      1.00      1.00        64\n",
            "           2       1.00      1.00      1.00       342\n",
            "           3       1.00      1.00      1.00       135\n",
            "           4       1.00      1.00      1.00      2929\n",
            "           5       1.00      1.00      1.00        41\n",
            "           6       1.00      1.00      1.00       204\n",
            "           7       1.00      1.00      1.00        39\n",
            "\n",
            "    accuracy                           1.00      3867\n",
            "   macro avg       1.00      1.00      1.00      3867\n",
            "weighted avg       1.00      1.00      1.00      3867\n",
            "\n",
            "\n"
          ],
          "name": "stdout"
        },
        {
          "output_type": "display_data",
          "data": {
            "image/png": "[encoded data removed]",
            "text/plain": [
              "<Figure size 432x288 with 2 Axes>"
            ]
          },
          "metadata": {
            "tags": [],
            "needs_background": "light"
          }
        }
      ]
    },
    {
      "cell_type": "markdown",
      "metadata": {
        "id": "NgwtIwxAD8I-",
        "colab_type": "text"
      },
      "source": [
        "Excelent! At least our model is learning something. Now let's see whether we can generalize."
      ]
    },
    {
      "cell_type": "markdown",
      "metadata": {
        "id": "2cljflpxD8js",
        "colab_type": "text"
      },
      "source": [
        "Plotting the confusion matrix and the classifcation report for the validation set."
      ]
    },
    {
      "cell_type": "code",
      "metadata": {
        "id": "dOSU-9jVMjMC",
        "colab_type": "code",
        "colab": {
          "base_uri": "https://localhost:8080/",
          "height": 574
        },
        "outputId": "436f94e0-60a0-4ad6-afc4-1fbf28d5c095"
      },
      "source": [
        "CR = classification_report(y_val, val_predictions)\n",
        "\n",
        "print(CR)\n",
        "\n",
        "CM = confusion_matrix(y_val, val_predictions)\n",
        "\n",
        "plt.figure(\"Confusion Matrix for validation set\")\n",
        "plt.title(\"Confusion Matrix for validation set\")\n",
        "sns.heatmap(CM, annot = True, fmt=\"d\", center = 500)\n",
        "plt.xlabel(\"Predictions\")\n",
        "plt.ylabel(\"True labels\")\n",
        "print()"
      ],
      "execution_count": 33,
      "outputs": [
        {
          "output_type": "stream",
          "text": [
            "              precision    recall  f1-score   support\n",
            "\n",
            "           0       0.97      0.97      0.97        34\n",
            "           1       1.00      0.82      0.90        17\n",
            "           2       0.90      0.93      0.91        81\n",
            "           3       0.81      0.95      0.88        22\n",
            "           4       0.99      0.98      0.99       737\n",
            "           5       0.64      0.69      0.67        13\n",
            "           6       0.94      1.00      0.97        51\n",
            "           7       0.85      0.92      0.88        12\n",
            "\n",
            "    accuracy                           0.97       967\n",
            "   macro avg       0.89      0.91      0.90       967\n",
            "weighted avg       0.97      0.97      0.97       967\n",
            "\n",
            "\n"
          ],
          "name": "stdout"
        },
        {
          "output_type": "display_data",
          "data": {
            "image/png": "[encoded data removed]",
            "text/plain": [
              "<Figure size 432x288 with 2 Axes>"
            ]
          },
          "metadata": {
            "tags": [],
            "needs_background": "light"
          }
        }
      ]
    },
    {
      "cell_type": "markdown",
      "metadata": {
        "id": "0-aRgbzNSkJk",
        "colab_type": "text"
      },
      "source": [
        "Great, we have pretty good results! Even thought our dataset is imbalanced we have managed to classify correctly most of the examples. Also, we can notice that our algorithm has more difficulties classifying \"flight time class\" (5), but this is expected since we have just a few examples."
      ]
    },
    {
      "cell_type": "code",
      "metadata": {
        "id": "_ZajCaWfSk-f",
        "colab_type": "code",
        "colab": {
          "base_uri": "https://localhost:8080/",
          "height": 52
        },
        "outputId": "ae2a2020-6ef6-4825-a5c4-4cc824e67e7f"
      },
      "source": [
        "print(encoder.classes_)"
      ],
      "execution_count": 34,
      "outputs": [
        {
          "output_type": "stream",
          "text": [
            "['atis_abbreviation' 'atis_aircraft' 'atis_airfare' 'atis_airline'\n",
            " 'atis_flight' 'atis_flight_time' 'atis_ground_service' 'atis_quantity']\n"
          ],
          "name": "stdout"
        }
      ]
    },
    {
      "cell_type": "markdown",
      "metadata": {
        "id": "yUZUp5FWAyU5",
        "colab_type": "text"
      },
      "source": [
        "To finalize, let's see one of the most interesting features of an attention model. In contrast to what happens with many deep learning models, in which, we can barely understand how decisions are made by the neural network, attention models provide a more satisfying answer. The latter is possible because of the interpretation of the $\\alpha$ coefficients, which essentially, are telling us what part of the text is the most relevant to pick one class over the others."
      ]
    },
    {
      "cell_type": "markdown",
      "metadata": {
        "id": "jjATF2jbD-Z2",
        "colab_type": "text"
      },
      "source": [
        "Consider the following example:"
      ]
    },
    {
      "cell_type": "code",
      "metadata": {
        "id": "768ETEfwXc5N",
        "colab_type": "code",
        "colab": {}
      },
      "source": [
        "idx_example = np.random.randint(X_val.shape[1])"
      ],
      "execution_count": 35,
      "outputs": []
    },
    {
      "cell_type": "code",
      "metadata": {
        "id": "1sXtT1_vXdqp",
        "colab_type": "code",
        "colab": {
          "base_uri": "https://localhost:8080/",
          "height": 69
        },
        "outputId": "20cceffb-ca52-48b6-cf0d-77f8ba7222ab"
      },
      "source": [
        "X_val[:,idx_example]"
      ],
      "execution_count": 36,
      "outputs": [
        {
          "output_type": "execute_result",
          "data": {
            "text/plain": [
              "tensor([329974, 239105, 357266,  97705, 269953, 384122, 150037, 154323, 116225,\n",
              "        360915, 317286, 153003, 219194, 116225,  47798,  26559, 287045,      0,\n",
              "             0,      0])"
            ]
          },
          "metadata": {
            "tags": []
          },
          "execution_count": 36
        }
      ]
    },
    {
      "cell_type": "code",
      "metadata": {
        "id": "34UeHf8prlSR",
        "colab_type": "code",
        "colab": {
          "base_uri": "https://localhost:8080/",
          "height": 34
        },
        "outputId": "ff177346-e1e6-4c9a-b2e8-d12f5f173b55"
      },
      "source": [
        "X_val_text[idx_example]"
      ],
      "execution_count": 37,
      "outputs": [
        {
          "output_type": "execute_result",
          "data": {
            "application/vnd.google.colaboratory.intrinsic+json": {
              "type": "string"
            },
            "text/plain": [
              "' show me the cheapest one way flights from dallas to san francisco leaving dallas after 4 pm'"
            ]
          },
          "metadata": {
            "tags": []
          },
          "execution_count": 37
        }
      ]
    },
    {
      "cell_type": "markdown",
      "metadata": {
        "id": "-5S3RMLoEX0H",
        "colab_type": "text"
      },
      "source": [
        "From the sentence, we can conclude that the query belongs to the class:"
      ]
    },
    {
      "cell_type": "code",
      "metadata": {
        "id": "C2xpkb3Bo99K",
        "colab_type": "code",
        "colab": {
          "base_uri": "https://localhost:8080/",
          "height": 34
        },
        "outputId": "9ff44a2f-4bb0-48d9-d8e8-f785d2caceee"
      },
      "source": [
        "print(encoder.inverse_transform(y_val[idx_example:idx_example+1]))"
      ],
      "execution_count": 38,
      "outputs": [
        {
          "output_type": "stream",
          "text": [
            "['atis_flight']\n"
          ],
          "name": "stdout"
        }
      ]
    },
    {
      "cell_type": "markdown",
      "metadata": {
        "id": "LdUwCML-JgZh",
        "colab_type": "text"
      },
      "source": [
        "And the algorithm has classified it as:"
      ]
    },
    {
      "cell_type": "code",
      "metadata": {
        "id": "vWvGv5jVJkq-",
        "colab_type": "code",
        "colab": {
          "base_uri": "https://localhost:8080/",
          "height": 34
        },
        "outputId": "8fe2fcd3-7649-42bd-a984-9a00290b43f8"
      },
      "source": [
        "print(encoder.inverse_transform(val_predictions[idx_example:idx_example+1]))"
      ],
      "execution_count": 39,
      "outputs": [
        {
          "output_type": "stream",
          "text": [
            "['atis_flight']\n"
          ],
          "name": "stdout"
        }
      ]
    },
    {
      "cell_type": "markdown",
      "metadata": {
        "id": "NDv05BNREn7x",
        "colab_type": "text"
      },
      "source": [
        "Finally, let's see what words are the ones our algorithm considers to be the most relevant to classify this text: "
      ]
    },
    {
      "cell_type": "code",
      "metadata": {
        "id": "Ge4cqZ4CAlyj",
        "colab_type": "code",
        "colab": {
          "base_uri": "https://localhost:8080/",
          "height": 122
        },
        "outputId": "20bd539c-4ca3-4f7d-f78a-b32879352452"
      },
      "source": [
        "print(\"Alpha vector:\")\n",
        "print( )\n",
        "print(val_alphas[idx_example,0,:])"
      ],
      "execution_count": 40,
      "outputs": [
        {
          "output_type": "stream",
          "text": [
            "Alpha vector:\n",
            "\n",
            "[5.6713628e-08 2.1137059e-09 4.9550908e-07 3.9594556e-04 2.0063822e-05\n",
            " 4.2141010e-06 8.5256821e-01 7.3099486e-04 9.1588899e-02 4.7058793e-06\n",
            " 3.9108671e-02 7.3664980e-03 7.3861134e-05 7.4467626e-03 4.1415138e-04\n",
            " 1.2950441e-04 1.1184546e-04 1.5096407e-06 2.9568184e-06 3.0603773e-05]\n"
          ],
          "name": "stdout"
        }
      ]
    },
    {
      "cell_type": "code",
      "metadata": {
        "id": "OVp5MVYZF5is",
        "colab_type": "code",
        "colab": {}
      },
      "source": [
        "indexes_alpha = np.argsort(val_alphas[idx_example,0,:])[-3:]"
      ],
      "execution_count": 41,
      "outputs": []
    },
    {
      "cell_type": "code",
      "metadata": {
        "id": "pZj8pZlvKPVT",
        "colab_type": "code",
        "colab": {
          "base_uri": "https://localhost:8080/",
          "height": 34
        },
        "outputId": "7f78495c-7d5d-4372-c215-ac8d8cbefc4c"
      },
      "source": [
        "print(indexes_alpha)"
      ],
      "execution_count": 42,
      "outputs": [
        {
          "output_type": "stream",
          "text": [
            "[10  8  6]\n"
          ],
          "name": "stdout"
        }
      ]
    },
    {
      "cell_type": "code",
      "metadata": {
        "id": "WRnjYkAxF5o6",
        "colab_type": "code",
        "colab": {
          "base_uri": "https://localhost:8080/",
          "height": 122
        },
        "outputId": "bdafeffe-52c3-4f19-a27f-4e931e0f6c4e"
      },
      "source": [
        "for idx in reversed(indexes_alpha):\n",
        "\n",
        "  try:\n",
        "    print(\"Index value:\", idx, ',',  \"Value of alpha_index:\", val_alphas[idx_example,0,idx], ',', \"Word:\", X_val_text[idx_example].split()[idx])\n",
        "    print( )\n",
        "  except IndexError:\n",
        "    print(\"The sentence is not that long\")\n",
        "    print( )"
      ],
      "execution_count": 43,
      "outputs": [
        {
          "output_type": "stream",
          "text": [
            "Index value: 6 , Value of alpha_index: 0.8525682 , Word: flights\n",
            "\n",
            "Index value: 8 , Value of alpha_index: 0.0915889 , Word: dallas\n",
            "\n",
            "Index value: 10 , Value of alpha_index: 0.03910867 , Word: san\n",
            "\n"
          ],
          "name": "stdout"
        }
      ]
    },
    {
      "cell_type": "code",
      "metadata": {
        "id": "wL4K5vn5F5l-",
        "colab_type": "code",
        "colab": {}
      },
      "source": [
        ""
      ],
      "execution_count": 43,
      "outputs": []
    },
    {
      "cell_type": "code",
      "metadata": {
        "id": "P_A3wwARp91g",
        "colab_type": "code",
        "colab": {}
      },
      "source": [
        ""
      ],
      "execution_count": 43,
      "outputs": []
    }
  ]
}